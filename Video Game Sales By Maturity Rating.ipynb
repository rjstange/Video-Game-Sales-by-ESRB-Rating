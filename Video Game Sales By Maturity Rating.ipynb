{
 "cells": [
  {
   "cell_type": "markdown",
   "metadata": {},
   "source": [
    "# US Video Game Sales in Relation to ESRB Rating and Genre"
   ]
  },
  {
   "cell_type": "markdown",
   "metadata": {},
   "source": [
    "By Riley Stange\n",
    "<br>For Thinkful Capstone 1: Business Research"
   ]
  },
  {
   "cell_type": "markdown",
   "metadata": {},
   "source": [
    "## 1. Introduction\n",
    "\n",
    "Having been an avid video gamer for most of my life, I found this to be an interesting subject matter, in which I have relevant experience.\n",
    "\n",
    "I found a dataset on Kaggle, Video Game Sales with Ratings, and after looking through it, I realized it would be interesting to see what insights can be gathered from how an ESRB maturity rating correlates with sales figures. \n",
    "\n",
    "Starting with a more broad comparison between different ratings, and then breaking down the differences between various genres, the goal is to see the degree of impact a maturity rating has on the sale of video games, in general, and in more specific cases tied to the different genres."
   ]
  },
  {
   "cell_type": "markdown",
   "metadata": {},
   "source": [
    "### ESRB Ratings\n",
    "\n",
    "**E**: \"Everyone\": Content is generally suitable for all ages. May contain minimal cartoon, fantasy or mild violence and/or infrequent use of mild language.\n",
    "\n",
    "**E10+**: \"Everyone 10+\": Content is generally suitable for ages 10 and up. May contain more cartoon, fantasy or mild violence, mild language and/or minimal suggestive themes.\n",
    "\n",
    "**T**: \"Teen\": Content is generally suitable for ages 13 and up. May contain violence, suggestive themes, crude humor, minimal blood, simulated gambling and/or infrequent use of strong language.\n",
    "\n",
    "**M**: \"Mature 17+\": Content is generally suitable for ages 17 and up. May contain intense violence, blood and gore, sexual content and/or strong language.\n",
    "\n",
    "**AO**: \"Adults Only 18+\": Content suitable for adults ages 18 and up. May include prolonged scenes of intense violence, graphic sexual content and/or gambling with real currency."
   ]
  },
  {
   "cell_type": "markdown",
   "metadata": {},
   "source": [
    "### Relevance\n",
    "\n",
    "From investors, publishing companies, all the way down to individual game studios; the insights gained from this experiment will help them to understand the profitability of content in video games, in general, and most importantly, in the context of different genres. This helps to maximize the use of investment capital and labor towards designing video games in such a way that they are most relevant to their target audience, and most profitable."
   ]
  },
  {
   "cell_type": "markdown",
   "metadata": {},
   "source": [
    "## 2. Hypothesis\n",
    "\n",
    "$H_0$: There is no significant difference in sales based on maturity rating.\n",
    "\n",
    "$H_A$: There is a significant difference in sales based on maturity rating."
   ]
  },
  {
   "cell_type": "markdown",
   "metadata": {},
   "source": [
    "## 3. Data"
   ]
  },
  {
   "cell_type": "code",
   "execution_count": 13,
   "metadata": {},
   "outputs": [],
   "source": [
    "# Initialize the environment\n",
    "import math\n",
    "import pandas as pd\n",
    "import numpy as np\n",
    "from scipy import stats\n",
    "import matplotlib.pyplot as plt\n",
    "import seaborn as sns\n",
    "from statsmodels.stats.multicomp import pairwise_tukeyhsd\n",
    "\n",
    "%matplotlib inline\n",
    "sns.set(style=\"darkgrid\")"
   ]
  },
  {
   "cell_type": "code",
   "execution_count": 14,
   "metadata": {},
   "outputs": [],
   "source": [
    "sales = pd.read_csv(\n",
    "    \"~/projects/video-game-sales-by-maturity-rating/Video_Games_Sales_as_at_22_Dec_2016.csv\"\n",
    ")"
   ]
  },
  {
   "cell_type": "code",
   "execution_count": 15,
   "metadata": {},
   "outputs": [
    {
     "data": {
      "text/plain": [
       "9174"
      ]
     },
     "execution_count": 15,
     "metadata": {},
     "output_type": "execute_result"
    }
   ],
   "source": [
    "# Only pull from entries where there are US sales\n",
    "# and where there is a rating\n",
    "na_sales = sales[\n",
    "    (sales[\"NA_Sales\"] > 0) & sales.Rating.notnull()\n",
    "]\n",
    "na_sales[\"NA_Sales\"].count()"
   ]
  },
  {
   "cell_type": "markdown",
   "metadata": {},
   "source": [
    "**Source**\n",
    "<br>The data is sourced from [Kaggle](https://www.kaggle.com/rush4ratio/video-game-sales-with-ratings) and contains 9,174 observations, after filtering for our criteria of video games that have sold > 0 copies in the US, and have a rating. Changed any observation with the obsolete (as of 1998) rating of 'K-A' to 'E', since they are considered equivalent."
   ]
  },
  {
   "cell_type": "code",
   "execution_count": 16,
   "metadata": {},
   "outputs": [
    {
     "data": {
      "text/plain": [
       "E       3764\n",
       "T       2650\n",
       "M       1423\n",
       "E10+    1328\n",
       "EC         8\n",
       "AO         1\n",
       "Name: Rating, dtype: int64"
      ]
     },
     "execution_count": 16,
     "metadata": {},
     "output_type": "execute_result"
    }
   ],
   "source": [
    "na_sales[\"Rating\"].value_counts()"
   ]
  },
  {
   "cell_type": "markdown",
   "metadata": {},
   "source": [
    "It appears that additional filtering of the dataset is in order, as we only have one observation in the 'AO' category, and only 8 in the now (as of 2018) retired 'EC' category."
   ]
  },
  {
   "cell_type": "code",
   "execution_count": 17,
   "metadata": {},
   "outputs": [],
   "source": [
    "# Eliminating the sparse/irrelevant Adults Only/Early Childhood rated observations.\n",
    "na_sales_e_to_m = sales[\n",
    "    (sales[\"NA_Sales\"] > 0)\n",
    "    & sales.Rating.notnull()\n",
    "    & (sales[\"Rating\"] != \"AO\")\n",
    "    & (sales[\"Rating\"] != \"EC\")\n",
    "]"
   ]
  },
  {
   "cell_type": "markdown",
   "metadata": {},
   "source": [
    "## 4. Methods"
   ]
  },
  {
   "cell_type": "markdown",
   "metadata": {},
   "source": [
    "### 1. Does Maturity Rating Effect Sales in General?"
   ]
  },
  {
   "cell_type": "markdown",
   "metadata": {},
   "source": [
    "First, I will graph the data in general to get an idea of it's distribution."
   ]
  },
  {
   "cell_type": "code",
   "execution_count": 18,
   "metadata": {},
   "outputs": [
    {
     "data": {
      "image/png": "[encoded data removed]",
      "text/plain": [
       "<Figure size 432x288 with 1 Axes>"
      ]
     },
     "metadata": {},
     "output_type": "display_data"
    }
   ],
   "source": [
    "sns.distplot(na_sales_e_to_m[\"NA_Sales\"])\n",
    "plt.show()"
   ]
  },
  {
   "cell_type": "markdown",
   "metadata": {},
   "source": [
    "Definitely not normal, so I do not need to do any statistical tests to confirm for normality. I will now use the Kruskal-Wallace test to see if I can refuse the null. Also I can just barely see that there is one extreme outlier that had sales of more than 40 million USD. I will look more into this later."
   ]
  },
  {
   "cell_type": "markdown",
   "metadata": {},
   "source": [
    "#### Kruskal-Wallis"
   ]
  },
  {
   "cell_type": "code",
   "execution_count": 19,
   "metadata": {},
   "outputs": [
    {
     "data": {
      "text/plain": [
       "KruskalResult(statistic=63.500405432609654, pvalue=1.0497237548692599e-13)"
      ]
     },
     "execution_count": 19,
     "metadata": {},
     "output_type": "execute_result"
    }
   ],
   "source": [
    "stats.kruskal(\n",
    "    na_sales_e_to_m[\"NA_Sales\"][\n",
    "        na_sales_e_to_m[\"Rating\"] == \"E\"\n",
    "    ],\n",
    "    na_sales_e_to_m[\"NA_Sales\"][\n",
    "        na_sales_e_to_m[\"Rating\"] == \"E10+\"\n",
    "    ],\n",
    "    na_sales_e_to_m[\"NA_Sales\"][\n",
    "        na_sales_e_to_m[\"Rating\"] == \"T\"\n",
    "    ],\n",
    "    na_sales_e_to_m[\"NA_Sales\"][\n",
    "        na_sales_e_to_m[\"Rating\"] == \"M\"\n",
    "    ],\n",
    ")"
   ]
  },
  {
   "cell_type": "markdown",
   "metadata": {},
   "source": [
    "**Results**\n",
    "\n",
    "From this, we can tell that at least one group is significantly different from the other three, and so for this broader null, we can reject it and move onto a more focused hypothesis and get more details on how significant those differences are, and based on what Ratings and Genres. "
   ]
  },
  {
   "cell_type": "markdown",
   "metadata": {},
   "source": [
    "### 2. Revealing Where The Differences Are, and Which Are Most Significant"
   ]
  },
  {
   "cell_type": "markdown",
   "metadata": {},
   "source": [
    "#### Boxen Plot by Rating"
   ]
  },
  {
   "cell_type": "markdown",
   "metadata": {},
   "source": [
    "To start, I will utilize a categorical boxen plot to give a clearer view of distribution's shape within each rating, and any outliers."
   ]
  },
  {
   "cell_type": "code",
   "execution_count": 24,
   "metadata": {},
   "outputs": [
    {
     "data": {
      "image/png": "[encoded data removed]",
      "text/plain": [
       "<Figure size 1080x720 with 1 Axes>"
      ]
     },
     "metadata": {},
     "output_type": "display_data"
    }
   ],
   "source": [
    "sns.catplot(\n",
    "    x=\"Rating\",\n",
    "    y=\"NA_Sales\",\n",
    "    kind=\"boxen\",\n",
    "    height=10,\n",
    "    aspect=1.5,\n",
    "    data=na_sales_e_to_m,\n",
    ")\n",
    "plt.show()"
   ]
  },
  {
   "cell_type": "markdown",
   "metadata": {},
   "source": [
    "From a quick glance, I first notice that the 40 million+ outlier is within the E rating. However, it appears there is a lot of activity going on in the Mature rated category. It may be useful to see the total sales per category at a later point to see the size of the total market in each maturity category, to determine the most profitable demographics. Now, to satisfy my own (and possibly anyone else's) curiousity, I will see what that outlier is. "
   ]
  },
  {
   "cell_type": "code",
   "execution_count": null,
   "metadata": {},
   "outputs": [],
   "source": [
    "na_sales_e_to_m[na_sales_e_to_m[\"NA_Sales\"] > 40]"
   ]
  },
  {
   "cell_type": "markdown",
   "metadata": {},
   "source": [
    "#### Tukey HSD Test"
   ]
  },
  {
   "cell_type": "markdown",
   "metadata": {},
   "source": [
    "Now I will perform the Tukey HSD test to compare the differences between the different ratings."
   ]
  },
  {
   "cell_type": "code",
   "execution_count": null,
   "metadata": {},
   "outputs": [],
   "source": [
    "tukey = pairwise_tukeyhsd(\n",
    "    endog=na_sales_e_to_m[\"NA_Sales\"],  # Data\n",
    "    groups=na_sales_e_to_m[\"Rating\"],  # Groups\n",
    "    alpha=0.05, # Significance level\n",
    ")  "
   ]
  },
  {
   "cell_type": "code",
   "execution_count": null,
   "metadata": {},
   "outputs": [],
   "source": [
    "tukey.summary()"
   ]
  },
  {
   "cell_type": "markdown",
   "metadata": {},
   "source": [
    "**Results**\n",
    "\n",
    "Based on these results, we can reject the null in every case, except for comparing the differences of the means of E10+ and T ratings sales.\n",
    "<br>The most significant differences in means are seen between: E10+-M, M-T, and E-M.\n",
    "<br>"
   ]
  },
  {
   "cell_type": "markdown",
   "metadata": {},
   "source": [
    "### 3. Best Performing Genres for Mature Rated Games"
   ]
  },
  {
   "cell_type": "markdown",
   "metadata": {},
   "source": [
    "#### Hypothesis\n",
    "\n",
    "After getting an idea of the big picture of where the greatest differences are in means sales between genres, I notice that the greatest differences in means are when comparing any group to the M rated group. This will lead into the next hypothesis I will test for: \n",
    "\n",
    "$H_0$: Mature rated games **do not** sell better than games with other ratings\n",
    "\n",
    "$H_A$: Mature rated games **do** sell better than games with other ratings."
   ]
  },
  {
   "cell_type": "markdown",
   "metadata": {},
   "source": [
    "#### Boxen Plotting The Genres"
   ]
  },
  {
   "cell_type": "markdown",
   "metadata": {},
   "source": [
    "I will first utilize another boxen plot. \n",
    "<br>But first, for this plot, due to the \"Wii Sports\" outlier, we will make a copy of our dataset, and then clip it's sale values to 16 million, more in line with the others, to get a clearer picture of what is happening at the lower end of the plot."
   ]
  },
  {
   "cell_type": "code",
   "execution_count": null,
   "metadata": {},
   "outputs": [],
   "source": [
    "clipped_sales = na_sales_e_to_m.copy()\n",
    "clipped_sales[\"NA_Sales\"] = na_sales_e_to_m[\n",
    "    \"NA_Sales\"\n",
    "].clip(upper=16)"
   ]
  },
  {
   "cell_type": "code",
   "execution_count": null,
   "metadata": {},
   "outputs": [],
   "source": [
    "sns.catplot(\n",
    "    x=\"Genre\",\n",
    "    y=\"NA_Sales\",\n",
    "    kind=\"boxen\",\n",
    "    hue=\"Rating\",\n",
    "    aspect=3,\n",
    "    data=clipped_sales.sort_values(\"NA_Sales\")\n",
    ")\n",
    "plt.show()"
   ]
  },
  {
   "cell_type": "markdown",
   "metadata": {},
   "source": [
    "Starting from the top of the chart: we have four titles that sold for over 14 million USD, one from Sports, one from Racing, one from Misc, and one from Platform. All of which are rated E.<br>\n",
    "This aligns with intuition, to see that the best sellers (including the one outlier that sold for 41 million USD) are all rated E, where their content is not offensive to anyone in particular, allowing for the largest potential audience.<br>\n",
    "This however, does not mean that games of other ratings do not have a valid audience, and as we see, there are only four games that sold for more than 14 million USD, but if you look at where the bulk of the action is happening, below the 5 million, and mostly below the 2.5 million mark, it seems that there is a potentially much larger market for M rated games, especially within the Shooter, Role-Playing, and to a lesser extent, Action genres.<br>\n",
    "A next step is to take a closer look at each genre and compare the sales statistics based on genre."
   ]
  },
  {
   "cell_type": "markdown",
   "metadata": {},
   "source": [
    "#### 1. Shooter Sales by Genre"
   ]
  },
  {
   "cell_type": "markdown",
   "metadata": {},
   "source": [
    "First I will start with the Shooter genre, where it appears that Mature rated games do well. Since we are now working with a smaller set of data, we can utilize a categorical swarm plot to see each individual data point, which makes it clearer where the density lies in each rating within this genre. "
   ]
  },
  {
   "cell_type": "code",
   "execution_count": null,
   "metadata": {},
   "outputs": [],
   "source": [
    "sns.catplot(\n",
    "    x=\"Rating\",\n",
    "    y=\"NA_Sales\",\n",
    "    kind=\"swarm\",\n",
    "    aspect=3,\n",
    "    data=na_sales_e_to_m[\n",
    "        na_sales_e_to_m[\"Genre\"] == \"Shooter\"\n",
    "    ],\n",
    ")\n",
    "plt.title(\"Shooter\")\n",
    "plt.show()"
   ]
  },
  {
   "cell_type": "markdown",
   "metadata": {},
   "source": [
    "\n",
    "Lets check the two-tail confidence interval between Mature and Teen rated shooters first"
   ]
  },
  {
   "cell_type": "code",
   "execution_count": 10,
   "metadata": {},
   "outputs": [],
   "source": [
    "def get_95_ci(array_1, array_2):\n",
    "    sample_1_n = array_1.shape[0]\n",
    "    sample_2_n = array_2.shape[0]\n",
    "    sample_1_mean = array_1.mean()\n",
    "    sample_2_mean = array_2.mean()\n",
    "    sample_1_var = array_1.var()\n",
    "    sample_2_var = array_2.var()\n",
    "    mean_difference = sample_2_mean - sample_1_mean\n",
    "    std_err_difference = math.sqrt(\n",
    "        (sample_1_var / sample_1_n)\n",
    "        + (sample_2_var / sample_2_n)\n",
    "    )\n",
    "    margin_of_error = 1.96 * std_err_difference\n",
    "    ci_lower = mean_difference - margin_of_error\n",
    "    ci_upper = mean_difference + margin_of_error\n",
    "    return (\n",
    "        \"The difference in means at the 95% confidence interval (two-tail) is between \"\n",
    "        + str(ci_lower)\n",
    "        + \" and \"\n",
    "        + str(ci_upper)\n",
    "        + \".\"\n",
    "    )"
   ]
  },
  {
   "cell_type": "code",
   "execution_count": 12,
   "metadata": {},
   "outputs": [
    {
     "name": "stdout",
     "output_type": "stream",
     "text": [
      "The difference in means at the 95% confidence interval (two-tail) is between 0.19712538915966707 and 0.4484317230099417.\n",
      "The average sale for a Teen rated shooter is 0.33840361445783135\n",
      "The average sale for a Mature rated shooter is 0.6611821705426357\n"
     ]
    }
   ],
   "source": [
    "m_shooters = na_sales_e_to_m[\n",
    "    (na_sales_e_to_m[\"Rating\"] == \"M\")\n",
    "    & (na_sales_e_to_m[\"Genre\"] == \"Shooter\")\n",
    "]\n",
    "t_shooters = na_sales_e_to_m[\n",
    "    (na_sales_e_to_m[\"Rating\"] == \"T\")\n",
    "    & (na_sales_e_to_m[\"Genre\"] == \"Shooter\")\n",
    "]\n",
    "print(\n",
    "    get_95_ci(\n",
    "        t_shooters[\"NA_Sales\"], m_shooters[\"NA_Sales\"]\n",
    "    )\n",
    ")\n",
    "print(\n",
    "    \"The average sale for a Teen rated shooter is {}\".format(\n",
    "        t_shooters[\"NA_Sales\"].mean()\n",
    "    )\n",
    ")\n",
    "print(\n",
    "    \"The average sale for a Mature rated shooter is {}\".format(\n",
    "        m_shooters[\"NA_Sales\"].mean()\n",
    "    )\n",
    ")"
   ]
  },
  {
   "cell_type": "markdown",
   "metadata": {},
   "source": [
    "We can see that, with a 95% confidence interval (two-tail), that Mature shooters sell between ~197K and ~448K USD more than Teen rated shooters, with the mean M-Rated shooter total sales coming in at ~661K USD, almost double the mean sales of a Teen rated shooter at ~338K USD. Now it is up to further research to see what makes Mature Rated shooters sell more than Teen rated shooters. Perhaps the target audience of shooters prefer greater degrees of realism in violence that cannot be found in a rating lower than Mature? One of the defining aspects of the Shooter genre is that you are immersed in the first person, and perhaps unrealistic violence would be detrimental to that immersive experience that most buyers in that market are looking for."
   ]
  },
  {
   "cell_type": "code",
   "execution_count": null,
   "metadata": {},
   "outputs": [],
   "source": []
  }
 ],
 "metadata": {
  "kernelspec": {
   "display_name": "Python 3",
   "language": "python",
   "name": "python3"
  },
  "language_info": {
   "codemirror_mode": {
    "name": "ipython",
    "version": 3
   },
   "file_extension": ".py",
   "mimetype": "text/x-python",
   "name": "python",
   "nbconvert_exporter": "python",
   "pygments_lexer": "ipython3",
   "version": "3.7.3"
  }
 },
 "nbformat": 4,
 "nbformat_minor": 4
}
