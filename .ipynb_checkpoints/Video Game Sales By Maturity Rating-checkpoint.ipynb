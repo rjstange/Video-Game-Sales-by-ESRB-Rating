{
 "cells": [
  {
   "cell_type": "code",
   "execution_count": 1,
   "metadata": {},
   "outputs": [],
   "source": [
    "import math\n",
    "import pandas as pd\n",
    "import numpy as np\n",
    "from scipy import stats\n",
    "import matplotlib.pyplot as plt"
   ]
  },
  {
   "cell_type": "code",
   "execution_count": 5,
   "metadata": {},
   "outputs": [],
   "source": [
    "sales = pd.read_csv('~/projects/video-game-sales-by-maturity-rating/Video_Games_Sales_as_at_22_Dec_2016.csv')"
   ]
  },
  {
   "cell_type": "code",
   "execution_count": 41,
   "metadata": {},
   "outputs": [
    {
     "data": {
      "text/plain": [
       "array(['Sports', 'Platform', 'Racing', 'Role-Playing', 'Puzzle', 'Misc',\n",
       "       'Shooter', 'Simulation', 'Action', 'Fighting', 'Adventure',\n",
       "       'Strategy', nan], dtype=object)"
      ]
     },
     "execution_count": 41,
     "metadata": {},
     "output_type": "execute_result"
    }
   ],
   "source": [
    "sales['Genre'].unique()"
   ]
  },
  {
   "cell_type": "code",
   "execution_count": 32,
   "metadata": {},
   "outputs": [],
   "source": [
    "na_sales_t = sales[(sales['Rating'] == 'T') & (sales['NA_Sales'] != 0)]\n",
    "na_sales_m = sales[(sales['Rating'] == 'M') & (sales['NA_Sales'] != 0)]"
   ]
  },
  {
   "cell_type": "code",
   "execution_count": 55,
   "metadata": {},
   "outputs": [
    {
     "data": {
      "text/plain": [
       "(array([98., 17.,  4.,  6.,  4.,  4.,  1.,  1.,  0.,  1.]),\n",
       " array([0.01 , 0.514, 1.018, 1.522, 2.026, 2.53 , 3.034, 3.538, 4.042,\n",
       "        4.546, 5.05 ]),\n",
       " <a list of 10 Patch objects>)"
      ]
     },
     "execution_count": 55,
     "metadata": {},
     "output_type": "execute_result"
    },
    {
     "data": {
      "image/png": "[encoded data removed]",
      "text/plain": [
       "<Figure size 432x288 with 1 Axes>"
      ]
     },
     "metadata": {
      "needs_background": "light"
     },
     "output_type": "display_data"
    }
   ],
   "source": [
    "na_sales_t_rpg = na_sales_t[na_sales_t['Genre'].isin(['Role-Playing'])]\n",
    "na_sales_m_rpg = na_sales_m[na_sales_m['Genre'].isin(['Role-Playing'])]\n",
    "\n",
    "plt.hist(na_sales_t_rpg['NA_Sales'])\n",
    "plt.hist(na_sales_m_rpg['NA_Sales'])"
   ]
  },
  {
   "cell_type": "code",
   "execution_count": 51,
   "metadata": {},
   "outputs": [
    {
     "name": "stdout",
     "output_type": "stream",
     "text": [
      "<class 'pandas.core.frame.DataFrame'>\n",
      "Int64Index: 136 entries, 75 to 14872\n",
      "Data columns (total 16 columns):\n",
      "Name               136 non-null object\n",
      "Platform           136 non-null object\n",
      "Year_of_Release    135 non-null float64\n",
      "Genre              136 non-null object\n",
      "Publisher          136 non-null object\n",
      "NA_Sales           136 non-null float64\n",
      "EU_Sales           136 non-null float64\n",
      "JP_Sales           136 non-null float64\n",
      "Other_Sales        136 non-null float64\n",
      "Global_Sales       136 non-null float64\n",
      "Critic_Score       130 non-null float64\n",
      "Critic_Count       130 non-null float64\n",
      "User_Score         135 non-null object\n",
      "User_Count         133 non-null float64\n",
      "Developer          136 non-null object\n",
      "Rating             136 non-null object\n",
      "dtypes: float64(9), object(7)\n",
      "memory usage: 18.1+ KB\n"
     ]
    }
   ],
   "source": [
    "na_sales_m[na_sales_m['Genre'].isin(['Role-Playing'])].info()"
   ]
  },
  {
   "cell_type": "code",
   "execution_count": 54,
   "metadata": {},
   "outputs": [
    {
     "data": {
      "text/plain": [
       "(array([98., 17.,  4.,  6.,  4.,  4.,  1.,  1.,  0.,  1.]),\n",
       " array([0.01 , 0.514, 1.018, 1.522, 2.026, 2.53 , 3.034, 3.538, 4.042,\n",
       "        4.546, 5.05 ]),\n",
       " <a list of 10 Patch objects>)"
      ]
     },
     "execution_count": 54,
     "metadata": {},
     "output_type": "execute_result"
    },
    {
     "data": {
      "image/png": "[encoded data removed]",
      "text/plain": [
       "<Figure size 432x288 with 1 Axes>"
      ]
     },
     "metadata": {
      "needs_background": "light"
     },
     "output_type": "display_data"
    }
   ],
   "source": []
  },
  {
   "cell_type": "code",
   "execution_count": null,
   "metadata": {},
   "outputs": [],
   "source": []
  }
 ],
 "metadata": {
  "kernelspec": {
   "display_name": "Python 3",
   "language": "python",
   "name": "python3"
  },
  "language_info": {
   "codemirror_mode": {
    "name": "ipython",
    "version": 3
   },
   "file_extension": ".py",
   "mimetype": "text/x-python",
   "name": "python",
   "nbconvert_exporter": "python",
   "pygments_lexer": "ipython3",
   "version": "3.7.3"
  }
 },
 "nbformat": 4,
 "nbformat_minor": 4
}
